{
  "nbformat": 4,
  "nbformat_minor": 0,
  "metadata": {
    "colab": {
      "provenance": []
    },
    "kernelspec": {
      "name": "python3",
      "display_name": "Python 3"
    },
    "language_info": {
      "name": "python"
    }
  },
  "cells": [
    {
      "cell_type": "code",
      "execution_count": 1,
      "metadata": {
        "id": "PmavFessLR03"
      },
      "outputs": [],
      "source": [
        "fruits = ['apple', 'banana', 'mango']\n"
      ]
    },
    {
      "cell_type": "code",
      "source": [
        "fruits.append('orange')         # Add one item\n",
        "fruits.extend(['grape', 'kiwi'])# Add multiple items\n",
        "fruits.insert(1, 'lemon')       # Insert at index\n",
        "fruits.remove('banana')         # Remove by value\n",
        "popped = fruits.pop()           # Remove last item\n",
        "fruits.sort()                   # Sort in-place\n",
        "fruits.reverse()                # Reverse in-place\n",
        "len(fruits)                     # Count items\n"
      ],
      "metadata": {
        "colab": {
          "base_uri": "https://localhost:8080/"
        },
        "id": "nGX_IoYrLTAV",
        "outputId": "caac1c43-fadf-4ed9-e2e3-b14d056087c2"
      },
      "execution_count": 2,
      "outputs": [
        {
          "output_type": "execute_result",
          "data": {
            "text/plain": [
              "5"
            ]
          },
          "metadata": {},
          "execution_count": 2
        }
      ]
    },
    {
      "cell_type": "code",
      "source": [
        "person = {'name': 'John', 'age': 25}\n"
      ],
      "metadata": {
        "id": "u65KSJqMLTRy"
      },
      "execution_count": 3,
      "outputs": []
    },
    {
      "cell_type": "code",
      "source": [
        "person['city'] = 'New York'       # Add new key-value\n",
        "person['age'] = 26                # Update value\n",
        "del person['name']                # Delete key\n",
        "value = person.get('name')        # Safe get (returns None if missing)\n",
        "keys = person.keys()              # All keys\n",
        "values = person.values()          # All values\n",
        "items = person.items()            # All (key, value) pairs\n"
      ],
      "metadata": {
        "id": "v2yE-RRfLTkh"
      },
      "execution_count": 4,
      "outputs": []
    },
    {
      "cell_type": "code",
      "source": [
        "colors = {'red', 'green', 'blue'}\n"
      ],
      "metadata": {
        "id": "5kBqhVowLT4q"
      },
      "execution_count": 5,
      "outputs": []
    },
    {
      "cell_type": "code",
      "source": [
        "colors.add('yellow')              # Add item\n",
        "colors.remove('red')              # Remove item\n",
        "colors.discard('black')           # Remove safely\n",
        "colors.pop()                      # Remove arbitrary element\n",
        "colors.clear()                    # Remove all elements\n",
        "\n",
        "a = {1, 2, 3}\n",
        "b = {3, 4, 5}\n",
        "a.union(b)                        # Union of sets\n",
        "a.intersection(b)                 # Common elements\n",
        "a.difference(b)                   # Elements in a not in b\n"
      ],
      "metadata": {
        "colab": {
          "base_uri": "https://localhost:8080/"
        },
        "id": "Fs2dAvTtLUJM",
        "outputId": "ced0f9e5-64c7-478c-ed0e-aa52f3f9d946"
      },
      "execution_count": 6,
      "outputs": [
        {
          "output_type": "execute_result",
          "data": {
            "text/plain": [
              "{1, 2}"
            ]
          },
          "metadata": {},
          "execution_count": 6
        }
      ]
    },
    {
      "cell_type": "code",
      "source": [
        "point = (4, 5)\n"
      ],
      "metadata": {
        "id": "OGrYJIGGLUwb"
      },
      "execution_count": 7,
      "outputs": []
    },
    {
      "cell_type": "code",
      "source": [
        "x = point[0]                      # Indexing\n",
        "count = point.count(4)           # Count occurrences\n",
        "idx = point.index(5)             # Find index of value\n",
        "len(point)                       # Number of items\n"
      ],
      "metadata": {
        "colab": {
          "base_uri": "https://localhost:8080/"
        },
        "id": "fYICXO4sLjm5",
        "outputId": "c2dd9598-d58b-4186-db52-b4209531dc80"
      },
      "execution_count": 8,
      "outputs": [
        {
          "output_type": "execute_result",
          "data": {
            "text/plain": [
              "2"
            ]
          },
          "metadata": {},
          "execution_count": 8
        }
      ]
    },
    {
      "cell_type": "code",
      "source": [
        "temp = list(point)\n",
        "temp.append(6)\n",
        "point = tuple(temp)\n"
      ],
      "metadata": {
        "id": "3ZJlU-3VLj4V"
      },
      "execution_count": 9,
      "outputs": []
    }
  ]
}